{
 "cells": [
  {
   "cell_type": "code",
   "execution_count": 2,
   "id": "bc0d6817",
   "metadata": {},
   "outputs": [
    {
     "name": "stdout",
     "output_type": "stream",
     "text": [
      "Testing multiplayer scenario for 3 players with 10 iterations.\n",
      "Iteration: 1/10 \n",
      "Sample size: [20, 20, 20]\n"
     ]
    },
    {
     "name": "stderr",
     "output_type": "stream",
     "text": [
      "Auto-assigning NUTS sampler...\n",
      "Initializing NUTS using jitter+adapt_diag...\n"
     ]
    },
    {
     "name": "stdout",
     "output_type": "stream",
     "text": [
      "player 1 progress: 1/1\n"
     ]
    },
    {
     "name": "stderr",
     "output_type": "stream",
     "text": [
      "Multiprocess sampling (4 chains in 4 jobs)\n",
      "NUTS: [pmTheta]\n",
      "Sampling 4 chains for 1_000 tune and 1_000 draw iterations (4_000 + 4_000 draws total) took 3 seconds.\n",
      "Auto-assigning NUTS sampler...\n",
      "Initializing NUTS using jitter+adapt_diag...\n"
     ]
    },
    {
     "name": "stdout",
     "output_type": "stream",
     "text": [
      "player 2 progress: 1/1\n"
     ]
    },
    {
     "name": "stderr",
     "output_type": "stream",
     "text": [
      "Multiprocess sampling (4 chains in 4 jobs)\n",
      "NUTS: [pmTheta]\n",
      "Sampling 4 chains for 1_000 tune and 1_000 draw iterations (4_000 + 4_000 draws total) took 8 seconds.\n",
      "Auto-assigning NUTS sampler...\n",
      "Initializing NUTS using jitter+adapt_diag...\n"
     ]
    },
    {
     "name": "stdout",
     "output_type": "stream",
     "text": [
      "player 3 progress: 1/1\n"
     ]
    },
    {
     "name": "stderr",
     "output_type": "stream",
     "text": [
      "Multiprocess sampling (4 chains in 4 jobs)\n",
      "NUTS: [pmTheta]\n",
      "Sampling 4 chains for 1_000 tune and 1_000 draw iterations (4_000 + 4_000 draws total) took 2 seconds.\n"
     ]
    },
    {
     "name": "stdout",
     "output_type": "stream",
     "text": [
      "[]\n",
      "[0]\n",
      "[1]\n",
      "[2]\n",
      "[0, 1]\n",
      "Executing the sample kl divergences for : [0, 1]\n"
     ]
    },
    {
     "name": "stderr",
     "output_type": "stream",
     "text": [
      "Auto-assigning NUTS sampler...\n",
      "Initializing NUTS using jitter+adapt_diag...\n"
     ]
    },
    {
     "name": "stdout",
     "output_type": "stream",
     "text": [
      "player 0+1 progress: 1/1\n"
     ]
    },
    {
     "name": "stderr",
     "output_type": "stream",
     "text": [
      "Multiprocess sampling (4 chains in 4 jobs)\n",
      "NUTS: [pmTheta]\n",
      "Sampling 4 chains for 1_000 tune and 1_000 draw iterations (4_000 + 4_000 draws total) took 13 seconds.\n"
     ]
    },
    {
     "name": "stdout",
     "output_type": "stream",
     "text": [
      "Estimated kl values are:  [[5.917614005791103]]\n",
      "[0, 2]\n",
      "Executing the sample kl divergences for : [0, 2]\n"
     ]
    },
    {
     "name": "stderr",
     "output_type": "stream",
     "text": [
      "Auto-assigning NUTS sampler...\n",
      "Initializing NUTS using jitter+adapt_diag...\n"
     ]
    },
    {
     "name": "stdout",
     "output_type": "stream",
     "text": [
      "player 0+2 progress: 1/1\n"
     ]
    },
    {
     "name": "stderr",
     "output_type": "stream",
     "text": [
      "Multiprocess sampling (4 chains in 4 jobs)\n",
      "NUTS: [pmTheta]\n",
      "Sampling 4 chains for 1_000 tune and 1_000 draw iterations (4_000 + 4_000 draws total) took 4 seconds.\n"
     ]
    },
    {
     "name": "stdout",
     "output_type": "stream",
     "text": [
      "Estimated kl values are:  [[4.092057460839495]]\n",
      "[1, 2]\n",
      "Executing the sample kl divergences for : [1, 2]\n"
     ]
    },
    {
     "name": "stderr",
     "output_type": "stream",
     "text": [
      "Auto-assigning NUTS sampler...\n",
      "Initializing NUTS using jitter+adapt_diag...\n"
     ]
    },
    {
     "name": "stdout",
     "output_type": "stream",
     "text": [
      "player 1+2 progress: 1/1\n"
     ]
    },
    {
     "name": "stderr",
     "output_type": "stream",
     "text": [
      "Multiprocess sampling (4 chains in 4 jobs)\n",
      "NUTS: [pmTheta]\n",
      "Sampling 4 chains for 1_000 tune and 1_000 draw iterations (4_000 + 4_000 draws total) took 11 seconds.\n"
     ]
    },
    {
     "name": "stdout",
     "output_type": "stream",
     "text": [
      "Estimated kl values are:  [[5.204894182518341]]\n",
      "[0, 1, 2]\n",
      "Executing the sample kl divergences for : [0, 1, 2]\n"
     ]
    },
    {
     "name": "stderr",
     "output_type": "stream",
     "text": [
      "Auto-assigning NUTS sampler...\n",
      "Initializing NUTS using jitter+adapt_diag...\n"
     ]
    },
    {
     "name": "stdout",
     "output_type": "stream",
     "text": [
      "player 0+1+2 progress: 1/1\n"
     ]
    },
    {
     "name": "stderr",
     "output_type": "stream",
     "text": [
      "Multiprocess sampling (4 chains in 4 jobs)\n",
      "NUTS: [pmTheta]\n",
      "Sampling 4 chains for 1_000 tune and 1_000 draw iterations (4_000 + 4_000 draws total) took 15 seconds.\n",
      "Auto-assigning NUTS sampler...\n",
      "Initializing NUTS using jitter+adapt_diag...\n"
     ]
    },
    {
     "name": "stdout",
     "output_type": "stream",
     "text": [
      "Estimated kl values are:  [[6.3710627439595235]]\n",
      "Iteration: 2/10 \n",
      "Sample size: [80, 30, 80]\n",
      "player 1 progress: 1/1\n"
     ]
    },
    {
     "name": "stderr",
     "output_type": "stream",
     "text": [
      "Multiprocess sampling (4 chains in 4 jobs)\n",
      "NUTS: [pmTheta]\n",
      "Sampling 4 chains for 1_000 tune and 1_000 draw iterations (4_000 + 4_000 draws total) took 5 seconds.\n",
      "Auto-assigning NUTS sampler...\n",
      "Initializing NUTS using jitter+adapt_diag...\n"
     ]
    },
    {
     "name": "stdout",
     "output_type": "stream",
     "text": [
      "player 2 progress: 1/1\n"
     ]
    },
    {
     "name": "stderr",
     "output_type": "stream",
     "text": [
      "Multiprocess sampling (4 chains in 4 jobs)\n",
      "NUTS: [pmTheta]\n",
      "Sampling 4 chains for 1_000 tune and 1_000 draw iterations (4_000 + 4_000 draws total) took 9 seconds.\n",
      "Auto-assigning NUTS sampler...\n",
      "Initializing NUTS using jitter+adapt_diag...\n"
     ]
    },
    {
     "name": "stdout",
     "output_type": "stream",
     "text": [
      "player 3 progress: 1/1\n"
     ]
    },
    {
     "name": "stderr",
     "output_type": "stream",
     "text": [
      "Multiprocess sampling (4 chains in 4 jobs)\n",
      "NUTS: [pmTheta]\n",
      "Sampling 4 chains for 1_000 tune and 1_000 draw iterations (4_000 + 4_000 draws total) took 3 seconds.\n",
      "The acceptance probability does not match the target. It is 0.8841615126471114, but should be close to 0.8. Try to increase the number of tuning steps.\n"
     ]
    },
    {
     "name": "stdout",
     "output_type": "stream",
     "text": [
      "[]\n",
      "[0]\n",
      "[1]\n",
      "[2]\n",
      "[0, 1]\n",
      "Executing the sample kl divergences for : [0, 1]\n"
     ]
    },
    {
     "name": "stderr",
     "output_type": "stream",
     "text": [
      "Auto-assigning NUTS sampler...\n",
      "Initializing NUTS using jitter+adapt_diag...\n"
     ]
    },
    {
     "name": "stdout",
     "output_type": "stream",
     "text": [
      "player 0+1 progress: 1/1\n"
     ]
    },
    {
     "name": "stderr",
     "output_type": "stream",
     "text": [
      "Multiprocess sampling (4 chains in 4 jobs)\n",
      "NUTS: [pmTheta]\n",
      "Sampling 4 chains for 1_000 tune and 1_000 draw iterations (4_000 + 4_000 draws total) took 22 seconds.\n"
     ]
    },
    {
     "name": "stdout",
     "output_type": "stream",
     "text": [
      "Estimated kl values are:  [[8.123285392826057]]\n",
      "[0, 2]\n",
      "Executing the sample kl divergences for : [0, 2]\n"
     ]
    },
    {
     "name": "stderr",
     "output_type": "stream",
     "text": [
      "Auto-assigning NUTS sampler...\n",
      "Initializing NUTS using jitter+adapt_diag...\n"
     ]
    },
    {
     "name": "stdout",
     "output_type": "stream",
     "text": [
      "player 0+2 progress: 1/1\n"
     ]
    },
    {
     "name": "stderr",
     "output_type": "stream",
     "text": [
      "Multiprocess sampling (4 chains in 4 jobs)\n",
      "NUTS: [pmTheta]\n",
      "Sampling 4 chains for 1_000 tune and 1_000 draw iterations (4_000 + 4_000 draws total) took 6 seconds.\n",
      "The acceptance probability does not match the target. It is 0.8818810300309392, but should be close to 0.8. Try to increase the number of tuning steps.\n"
     ]
    },
    {
     "name": "stdout",
     "output_type": "stream",
     "text": [
      "Estimated kl values are:  [[7.169719492628928]]\n",
      "[1, 2]\n",
      "Executing the sample kl divergences for : [1, 2]\n"
     ]
    },
    {
     "name": "stderr",
     "output_type": "stream",
     "text": [
      "Auto-assigning NUTS sampler...\n",
      "Initializing NUTS using jitter+adapt_diag...\n"
     ]
    },
    {
     "name": "stdout",
     "output_type": "stream",
     "text": [
      "player 1+2 progress: 1/1\n"
     ]
    },
    {
     "name": "stderr",
     "output_type": "stream",
     "text": [
      "Multiprocess sampling (4 chains in 4 jobs)\n",
      "NUTS: [pmTheta]\n",
      "Sampling 4 chains for 1_000 tune and 1_000 draw iterations (4_000 + 4_000 draws total) took 14 seconds.\n"
     ]
    },
    {
     "name": "stdout",
     "output_type": "stream",
     "text": [
      "Estimated kl values are:  [[7.1107741975078245]]\n",
      "[0, 1, 2]\n",
      "Executing the sample kl divergences for : [0, 1, 2]\n"
     ]
    },
    {
     "name": "stderr",
     "output_type": "stream",
     "text": [
      "Auto-assigning NUTS sampler...\n",
      "Initializing NUTS using jitter+adapt_diag...\n"
     ]
    },
    {
     "name": "stdout",
     "output_type": "stream",
     "text": [
      "player 0+1+2 progress: 1/1\n"
     ]
    },
    {
     "name": "stderr",
     "output_type": "stream",
     "text": [
      "Multiprocess sampling (4 chains in 4 jobs)\n",
      "NUTS: [pmTheta]\n",
      "Sampling 4 chains for 1_000 tune and 1_000 draw iterations (4_000 + 4_000 draws total) took 22 seconds.\n",
      "Auto-assigning NUTS sampler...\n",
      "Initializing NUTS using jitter+adapt_diag...\n"
     ]
    },
    {
     "name": "stdout",
     "output_type": "stream",
     "text": [
      "Estimated kl values are:  [[8.783314863045147]]\n",
      "Iteration: 3/10 \n",
      "Sample size: [98, 40, 140]\n",
      "player 1 progress: 1/1\n"
     ]
    },
    {
     "name": "stderr",
     "output_type": "stream",
     "text": [
      "Multiprocess sampling (4 chains in 4 jobs)\n",
      "NUTS: [pmTheta]\n",
      "Sampling 4 chains for 1_000 tune and 1_000 draw iterations (4_000 + 4_000 draws total) took 5 seconds.\n",
      "Auto-assigning NUTS sampler...\n",
      "Initializing NUTS using jitter+adapt_diag...\n"
     ]
    },
    {
     "name": "stdout",
     "output_type": "stream",
     "text": [
      "player 2 progress: 1/1\n"
     ]
    },
    {
     "name": "stderr",
     "output_type": "stream",
     "text": [
      "Multiprocess sampling (4 chains in 4 jobs)\n",
      "NUTS: [pmTheta]\n",
      "Sampling 4 chains for 1_000 tune and 1_000 draw iterations (4_000 + 4_000 draws total) took 9 seconds.\n",
      "Auto-assigning NUTS sampler...\n",
      "Initializing NUTS using jitter+adapt_diag...\n"
     ]
    },
    {
     "name": "stdout",
     "output_type": "stream",
     "text": [
      "player 3 progress: 1/1\n"
     ]
    },
    {
     "name": "stderr",
     "output_type": "stream",
     "text": [
      "Multiprocess sampling (4 chains in 4 jobs)\n",
      "NUTS: [pmTheta]\n",
      "Sampling 4 chains for 1_000 tune and 1_000 draw iterations (4_000 + 4_000 draws total) took 4 seconds.\n"
     ]
    },
    {
     "name": "stdout",
     "output_type": "stream",
     "text": [
      "[]\n",
      "[0]\n",
      "[1]\n",
      "[2]\n",
      "[0, 1]\n",
      "Executing the sample kl divergences for : [0, 1]\n"
     ]
    },
    {
     "name": "stderr",
     "output_type": "stream",
     "text": [
      "Auto-assigning NUTS sampler...\n",
      "Initializing NUTS using jitter+adapt_diag...\n"
     ]
    },
    {
     "name": "stdout",
     "output_type": "stream",
     "text": [
      "player 0+1 progress: 1/1\n"
     ]
    },
    {
     "name": "stderr",
     "output_type": "stream",
     "text": [
      "Multiprocess sampling (4 chains in 4 jobs)\n",
      "NUTS: [pmTheta]\n",
      "Sampling 4 chains for 1_000 tune and 1_000 draw iterations (4_000 + 4_000 draws total) took 17 seconds.\n"
     ]
    },
    {
     "name": "stdout",
     "output_type": "stream",
     "text": [
      "Estimated kl values are:  [[8.876285679141832]]\n",
      "[0, 2]\n",
      "Executing the sample kl divergences for : [0, 2]\n"
     ]
    },
    {
     "name": "stderr",
     "output_type": "stream",
     "text": [
      "Auto-assigning NUTS sampler...\n",
      "Initializing NUTS using jitter+adapt_diag...\n"
     ]
    },
    {
     "name": "stdout",
     "output_type": "stream",
     "text": [
      "player 0+2 progress: 1/1\n"
     ]
    },
    {
     "name": "stderr",
     "output_type": "stream",
     "text": [
      "Multiprocess sampling (4 chains in 4 jobs)\n",
      "NUTS: [pmTheta]\n",
      "Sampling 4 chains for 1_000 tune and 1_000 draw iterations (4_000 + 4_000 draws total) took 7 seconds.\n"
     ]
    },
    {
     "name": "stdout",
     "output_type": "stream",
     "text": [
      "Estimated kl values are:  [[7.795210241842142]]\n",
      "[1, 2]\n",
      "Executing the sample kl divergences for : [1, 2]\n"
     ]
    },
    {
     "name": "stderr",
     "output_type": "stream",
     "text": [
      "Auto-assigning NUTS sampler...\n",
      "Initializing NUTS using jitter+adapt_diag...\n"
     ]
    },
    {
     "name": "stdout",
     "output_type": "stream",
     "text": [
      "player 1+2 progress: 1/1\n"
     ]
    },
    {
     "name": "stderr",
     "output_type": "stream",
     "text": [
      "Multiprocess sampling (4 chains in 4 jobs)\n",
      "NUTS: [pmTheta]\n",
      "Sampling 4 chains for 1_000 tune and 1_000 draw iterations (4_000 + 4_000 draws total) took 17 seconds.\n"
     ]
    },
    {
     "name": "stdout",
     "output_type": "stream",
     "text": [
      "Estimated kl values are:  [[8.333091388058403]]\n",
      "[0, 1, 2]\n",
      "Executing the sample kl divergences for : [0, 1, 2]\n"
     ]
    },
    {
     "name": "stderr",
     "output_type": "stream",
     "text": [
      "Auto-assigning NUTS sampler...\n",
      "Initializing NUTS using jitter+adapt_diag...\n"
     ]
    },
    {
     "name": "stdout",
     "output_type": "stream",
     "text": [
      "player 0+1+2 progress: 1/1\n"
     ]
    },
    {
     "name": "stderr",
     "output_type": "stream",
     "text": [
      "Multiprocess sampling (4 chains in 4 jobs)\n",
      "NUTS: [pmTheta]\n",
      "Sampling 4 chains for 1_000 tune and 1_000 draw iterations (4_000 + 4_000 draws total) took 20 seconds.\n",
      "Auto-assigning NUTS sampler...\n",
      "Initializing NUTS using jitter+adapt_diag...\n"
     ]
    },
    {
     "name": "stdout",
     "output_type": "stream",
     "text": [
      "Estimated kl values are:  [[9.71023139158172]]\n",
      "Iteration: 4/10 \n",
      "Sample size: [158, 50, 200]\n",
      "player 1 progress: 1/1\n"
     ]
    },
    {
     "name": "stderr",
     "output_type": "stream",
     "text": [
      "Multiprocess sampling (4 chains in 4 jobs)\n",
      "NUTS: [pmTheta]\n",
      "Sampling 4 chains for 1_000 tune and 1_000 draw iterations (4_000 + 4_000 draws total) took 5 seconds.\n",
      "Auto-assigning NUTS sampler...\n",
      "Initializing NUTS using jitter+adapt_diag...\n"
     ]
    },
    {
     "name": "stdout",
     "output_type": "stream",
     "text": [
      "player 2 progress: 1/1\n"
     ]
    },
    {
     "name": "stderr",
     "output_type": "stream",
     "text": [
      "Multiprocess sampling (4 chains in 4 jobs)\n",
      "NUTS: [pmTheta]\n",
      "Sampling 4 chains for 1_000 tune and 1_000 draw iterations (4_000 + 4_000 draws total) took 8 seconds.\n",
      "Auto-assigning NUTS sampler...\n",
      "Initializing NUTS using jitter+adapt_diag...\n"
     ]
    },
    {
     "name": "stdout",
     "output_type": "stream",
     "text": [
      "player 3 progress: 1/1\n"
     ]
    },
    {
     "name": "stderr",
     "output_type": "stream",
     "text": [
      "Multiprocess sampling (4 chains in 4 jobs)\n",
      "NUTS: [pmTheta]\n",
      "Sampling 4 chains for 1_000 tune and 1_000 draw iterations (4_000 + 4_000 draws total) took 4 seconds.\n"
     ]
    },
    {
     "name": "stdout",
     "output_type": "stream",
     "text": [
      "[]\n",
      "[0]\n",
      "[1]\n",
      "[2]\n",
      "[0, 1]\n",
      "Executing the sample kl divergences for : [0, 1]\n"
     ]
    },
    {
     "name": "stderr",
     "output_type": "stream",
     "text": [
      "Auto-assigning NUTS sampler...\n",
      "Initializing NUTS using jitter+adapt_diag...\n"
     ]
    },
    {
     "name": "stdout",
     "output_type": "stream",
     "text": [
      "player 0+1 progress: 1/1\n"
     ]
    },
    {
     "name": "stderr",
     "output_type": "stream",
     "text": [
      "Multiprocess sampling (4 chains in 4 jobs)\n",
      "NUTS: [pmTheta]\n",
      "Sampling 4 chains for 1_000 tune and 1_000 draw iterations (4_000 + 4_000 draws total) took 16 seconds.\n"
     ]
    },
    {
     "name": "stdout",
     "output_type": "stream",
     "text": [
      "Estimated kl values are:  [[9.84969108119039]]\n",
      "[0, 2]\n",
      "Executing the sample kl divergences for : [0, 2]\n"
     ]
    },
    {
     "name": "stderr",
     "output_type": "stream",
     "text": [
      "Auto-assigning NUTS sampler...\n",
      "Initializing NUTS using jitter+adapt_diag...\n"
     ]
    },
    {
     "name": "stdout",
     "output_type": "stream",
     "text": [
      "player 0+2 progress: 1/1\n"
     ]
    },
    {
     "name": "stderr",
     "output_type": "stream",
     "text": [
      "Multiprocess sampling (4 chains in 4 jobs)\n",
      "NUTS: [pmTheta]\n",
      "Sampling 4 chains for 1_000 tune and 1_000 draw iterations (4_000 + 4_000 draws total) took 7 seconds.\n",
      "The acceptance probability does not match the target. It is 0.8827004071315888, but should be close to 0.8. Try to increase the number of tuning steps.\n"
     ]
    },
    {
     "name": "stdout",
     "output_type": "stream",
     "text": [
      "Estimated kl values are:  [[8.771652669941794]]\n",
      "[1, 2]\n",
      "Executing the sample kl divergences for : [1, 2]\n"
     ]
    },
    {
     "name": "stderr",
     "output_type": "stream",
     "text": [
      "Auto-assigning NUTS sampler...\n",
      "Initializing NUTS using jitter+adapt_diag...\n"
     ]
    },
    {
     "name": "stdout",
     "output_type": "stream",
     "text": [
      "player 1+2 progress: 1/1\n"
     ]
    },
    {
     "name": "stderr",
     "output_type": "stream",
     "text": [
      "Multiprocess sampling (4 chains in 4 jobs)\n",
      "NUTS: [pmTheta]\n",
      "Sampling 4 chains for 1_000 tune and 1_000 draw iterations (4_000 + 4_000 draws total) took 18 seconds.\n"
     ]
    },
    {
     "name": "stdout",
     "output_type": "stream",
     "text": [
      "Estimated kl values are:  [[9.00772224051681]]\n",
      "[0, 1, 2]\n",
      "Executing the sample kl divergences for : [0, 1, 2]\n"
     ]
    },
    {
     "name": "stderr",
     "output_type": "stream",
     "text": [
      "Auto-assigning NUTS sampler...\n",
      "Initializing NUTS using jitter+adapt_diag...\n"
     ]
    },
    {
     "name": "stdout",
     "output_type": "stream",
     "text": [
      "player 0+1+2 progress: 1/1\n"
     ]
    },
    {
     "name": "stderr",
     "output_type": "stream",
     "text": [
      "Multiprocess sampling (4 chains in 4 jobs)\n",
      "NUTS: [pmTheta]\n",
      "Sampling 4 chains for 1_000 tune and 1_000 draw iterations (4_000 + 4_000 draws total) took 27 seconds.\n",
      "Auto-assigning NUTS sampler...\n",
      "Initializing NUTS using jitter+adapt_diag...\n"
     ]
    },
    {
     "name": "stdout",
     "output_type": "stream",
     "text": [
      "Estimated kl values are:  [[10.67767382656217]]\n",
      "Iteration: 5/10 \n",
      "Sample size: [158, 60, 260]\n",
      "player 1 progress: 1/1\n"
     ]
    },
    {
     "name": "stderr",
     "output_type": "stream",
     "text": [
      "Multiprocess sampling (4 chains in 4 jobs)\n",
      "NUTS: [pmTheta]\n",
      "Sampling 4 chains for 1_000 tune and 1_000 draw iterations (4_000 + 4_000 draws total) took 5 seconds.\n",
      "The acceptance probability does not match the target. It is 0.9009954479920408, but should be close to 0.8. Try to increase the number of tuning steps.\n",
      "Auto-assigning NUTS sampler...\n",
      "Initializing NUTS using jitter+adapt_diag...\n"
     ]
    },
    {
     "name": "stdout",
     "output_type": "stream",
     "text": [
      "player 2 progress: 1/1\n"
     ]
    },
    {
     "name": "stderr",
     "output_type": "stream",
     "text": [
      "Multiprocess sampling (4 chains in 4 jobs)\n",
      "NUTS: [pmTheta]\n",
      "Sampling 4 chains for 1_000 tune and 1_000 draw iterations (4_000 + 4_000 draws total) took 9 seconds.\n",
      "Auto-assigning NUTS sampler...\n",
      "Initializing NUTS using jitter+adapt_diag...\n"
     ]
    },
    {
     "name": "stdout",
     "output_type": "stream",
     "text": [
      "player 3 progress: 1/1\n"
     ]
    },
    {
     "name": "stderr",
     "output_type": "stream",
     "text": [
      "Multiprocess sampling (4 chains in 4 jobs)\n",
      "NUTS: [pmTheta]\n",
      "Sampling 4 chains for 1_000 tune and 1_000 draw iterations (4_000 + 4_000 draws total) took 5 seconds.\n",
      "The acceptance probability does not match the target. It is 0.8880228369277723, but should be close to 0.8. Try to increase the number of tuning steps.\n"
     ]
    },
    {
     "name": "stdout",
     "output_type": "stream",
     "text": [
      "[]\n",
      "[0]\n",
      "[1]\n",
      "[2]\n",
      "[0, 1]\n",
      "Executing the sample kl divergences for : [0, 1]\n"
     ]
    },
    {
     "name": "stderr",
     "output_type": "stream",
     "text": [
      "Auto-assigning NUTS sampler...\n",
      "Initializing NUTS using jitter+adapt_diag...\n"
     ]
    },
    {
     "name": "stdout",
     "output_type": "stream",
     "text": [
      "player 0+1 progress: 1/1\n"
     ]
    },
    {
     "name": "stderr",
     "output_type": "stream",
     "text": [
      "Multiprocess sampling (4 chains in 4 jobs)\n",
      "NUTS: [pmTheta]\n",
      "Sampling 4 chains for 1_000 tune and 1_000 draw iterations (4_000 + 4_000 draws total) took 14 seconds.\n"
     ]
    },
    {
     "name": "stdout",
     "output_type": "stream",
     "text": [
      "Estimated kl values are:  [[10.167806312947409]]\n",
      "[0, 2]\n",
      "Executing the sample kl divergences for : [0, 2]\n"
     ]
    },
    {
     "name": "stderr",
     "output_type": "stream",
     "text": [
      "Auto-assigning NUTS sampler...\n",
      "Initializing NUTS using jitter+adapt_diag...\n"
     ]
    },
    {
     "name": "stdout",
     "output_type": "stream",
     "text": [
      "player 0+2 progress: 1/1\n"
     ]
    },
    {
     "name": "stderr",
     "output_type": "stream",
     "text": [
      "Multiprocess sampling (4 chains in 4 jobs)\n",
      "NUTS: [pmTheta]\n",
      "Sampling 4 chains for 1_000 tune and 1_000 draw iterations (4_000 + 4_000 draws total) took 9 seconds.\n",
      "The acceptance probability does not match the target. It is 0.8850297431548365, but should be close to 0.8. Try to increase the number of tuning steps.\n"
     ]
    },
    {
     "name": "stdout",
     "output_type": "stream",
     "text": [
      "Estimated kl values are:  [[9.219898080940265]]\n",
      "[1, 2]\n",
      "Executing the sample kl divergences for : [1, 2]\n"
     ]
    },
    {
     "name": "stderr",
     "output_type": "stream",
     "text": [
      "Auto-assigning NUTS sampler...\n",
      "Initializing NUTS using jitter+adapt_diag...\n"
     ]
    },
    {
     "name": "stdout",
     "output_type": "stream",
     "text": [
      "player 1+2 progress: 1/1\n"
     ]
    },
    {
     "name": "stderr",
     "output_type": "stream",
     "text": [
      "Multiprocess sampling (4 chains in 4 jobs)\n",
      "NUTS: [pmTheta]\n",
      "Sampling 4 chains for 1_000 tune and 1_000 draw iterations (4_000 + 4_000 draws total) took 17 seconds.\n"
     ]
    },
    {
     "name": "stdout",
     "output_type": "stream",
     "text": [
      "Estimated kl values are:  [[9.648220535354596]]\n",
      "[0, 1, 2]\n",
      "Executing the sample kl divergences for : [0, 1, 2]\n"
     ]
    },
    {
     "name": "stderr",
     "output_type": "stream",
     "text": [
      "Auto-assigning NUTS sampler...\n",
      "Initializing NUTS using jitter+adapt_diag...\n"
     ]
    },
    {
     "name": "stdout",
     "output_type": "stream",
     "text": [
      "player 0+1+2 progress: 1/1\n"
     ]
    },
    {
     "name": "stderr",
     "output_type": "stream",
     "text": [
      "Multiprocess sampling (4 chains in 4 jobs)\n",
      "NUTS: [pmTheta]\n",
      "Sampling 4 chains for 1_000 tune and 1_000 draw iterations (4_000 + 4_000 draws total) took 29 seconds.\n",
      "Auto-assigning NUTS sampler...\n",
      "Initializing NUTS using jitter+adapt_diag...\n"
     ]
    },
    {
     "name": "stdout",
     "output_type": "stream",
     "text": [
      "Estimated kl values are:  [[11.043821385918806]]\n",
      "Iteration: 6/10 \n",
      "Sample size: [206, 70, 320]\n",
      "player 1 progress: 1/1\n"
     ]
    },
    {
     "name": "stderr",
     "output_type": "stream",
     "text": [
      "Multiprocess sampling (4 chains in 4 jobs)\n",
      "NUTS: [pmTheta]\n",
      "Sampling 4 chains for 1_000 tune and 1_000 draw iterations (4_000 + 4_000 draws total) took 5 seconds.\n",
      "Auto-assigning NUTS sampler...\n",
      "Initializing NUTS using jitter+adapt_diag...\n"
     ]
    },
    {
     "name": "stdout",
     "output_type": "stream",
     "text": [
      "player 2 progress: 1/1\n"
     ]
    },
    {
     "name": "stderr",
     "output_type": "stream",
     "text": [
      "Multiprocess sampling (4 chains in 4 jobs)\n",
      "NUTS: [pmTheta]\n",
      "Sampling 4 chains for 1_000 tune and 1_000 draw iterations (4_000 + 4_000 draws total) took 8 seconds.\n",
      "Auto-assigning NUTS sampler...\n",
      "Initializing NUTS using jitter+adapt_diag...\n"
     ]
    },
    {
     "name": "stdout",
     "output_type": "stream",
     "text": [
      "player 3 progress: 1/1\n"
     ]
    },
    {
     "name": "stderr",
     "output_type": "stream",
     "text": [
      "Multiprocess sampling (4 chains in 4 jobs)\n",
      "NUTS: [pmTheta]\n",
      "Sampling 4 chains for 1_000 tune and 1_000 draw iterations (4_000 + 4_000 draws total) took 5 seconds.\n",
      "The acceptance probability does not match the target. It is 0.7186028976498396, but should be close to 0.8. Try to increase the number of tuning steps.\n"
     ]
    },
    {
     "name": "stdout",
     "output_type": "stream",
     "text": [
      "[]\n",
      "[0]\n",
      "[1]\n",
      "[2]\n",
      "[0, 1]\n",
      "Executing the sample kl divergences for : [0, 1]\n"
     ]
    },
    {
     "name": "stderr",
     "output_type": "stream",
     "text": [
      "Auto-assigning NUTS sampler...\n",
      "Initializing NUTS using jitter+adapt_diag...\n"
     ]
    },
    {
     "name": "stdout",
     "output_type": "stream",
     "text": [
      "player 0+1 progress: 1/1\n"
     ]
    },
    {
     "name": "stderr",
     "output_type": "stream",
     "text": [
      "Multiprocess sampling (4 chains in 4 jobs)\n",
      "NUTS: [pmTheta]\n",
      "Sampling 4 chains for 1_000 tune and 1_000 draw iterations (4_000 + 4_000 draws total) took 18 seconds.\n"
     ]
    },
    {
     "name": "stdout",
     "output_type": "stream",
     "text": [
      "Estimated kl values are:  [[10.789845276094386]]\n",
      "[0, 2]\n",
      "Executing the sample kl divergences for : [0, 2]\n"
     ]
    },
    {
     "name": "stderr",
     "output_type": "stream",
     "text": [
      "Auto-assigning NUTS sampler...\n",
      "Initializing NUTS using jitter+adapt_diag...\n"
     ]
    },
    {
     "name": "stdout",
     "output_type": "stream",
     "text": [
      "player 0+2 progress: 1/1\n"
     ]
    },
    {
     "name": "stderr",
     "output_type": "stream",
     "text": [
      "Multiprocess sampling (4 chains in 4 jobs)\n",
      "NUTS: [pmTheta]\n",
      "Sampling 4 chains for 1_000 tune and 1_000 draw iterations (4_000 + 4_000 draws total) took 8 seconds.\n",
      "The acceptance probability does not match the target. It is 0.8849576212688178, but should be close to 0.8. Try to increase the number of tuning steps.\n"
     ]
    },
    {
     "name": "stdout",
     "output_type": "stream",
     "text": [
      "Estimated kl values are:  [[9.486906766505813]]\n",
      "[1, 2]\n",
      "Executing the sample kl divergences for : [1, 2]\n"
     ]
    },
    {
     "name": "stderr",
     "output_type": "stream",
     "text": [
      "Auto-assigning NUTS sampler...\n",
      "Initializing NUTS using jitter+adapt_diag...\n"
     ]
    },
    {
     "name": "stdout",
     "output_type": "stream",
     "text": [
      "player 1+2 progress: 1/1\n"
     ]
    },
    {
     "name": "stderr",
     "output_type": "stream",
     "text": [
      "Multiprocess sampling (4 chains in 4 jobs)\n",
      "NUTS: [pmTheta]\n",
      "Sampling 4 chains for 1_000 tune and 1_000 draw iterations (4_000 + 4_000 draws total) took 16 seconds.\n"
     ]
    },
    {
     "name": "stdout",
     "output_type": "stream",
     "text": [
      "Estimated kl values are:  [[10.093446868372961]]\n",
      "[0, 1, 2]\n",
      "Executing the sample kl divergences for : [0, 1, 2]\n"
     ]
    },
    {
     "name": "stderr",
     "output_type": "stream",
     "text": [
      "Auto-assigning NUTS sampler...\n",
      "Initializing NUTS using jitter+adapt_diag...\n"
     ]
    },
    {
     "name": "stdout",
     "output_type": "stream",
     "text": [
      "player 0+1+2 progress: 1/1\n"
     ]
    },
    {
     "name": "stderr",
     "output_type": "stream",
     "text": [
      "Multiprocess sampling (4 chains in 4 jobs)\n",
      "NUTS: [pmTheta]\n",
      "Sampling 4 chains for 1_000 tune and 1_000 draw iterations (4_000 + 4_000 draws total) took 30 seconds.\n",
      "Auto-assigning NUTS sampler...\n",
      "Initializing NUTS using jitter+adapt_diag...\n"
     ]
    },
    {
     "name": "stdout",
     "output_type": "stream",
     "text": [
      "Estimated kl values are:  [[11.546525057979782]]\n",
      "Iteration: 7/10 \n",
      "Sample size: [206, 80, 380]\n",
      "player 1 progress: 1/1\n"
     ]
    },
    {
     "name": "stderr",
     "output_type": "stream",
     "text": [
      "Multiprocess sampling (4 chains in 4 jobs)\n",
      "NUTS: [pmTheta]\n",
      "Sampling 4 chains for 1_000 tune and 1_000 draw iterations (4_000 + 4_000 draws total) took 6 seconds.\n",
      "The acceptance probability does not match the target. It is 0.8819616089628123, but should be close to 0.8. Try to increase the number of tuning steps.\n",
      "Auto-assigning NUTS sampler...\n",
      "Initializing NUTS using jitter+adapt_diag...\n"
     ]
    },
    {
     "name": "stdout",
     "output_type": "stream",
     "text": [
      "player 2 progress: 1/1\n"
     ]
    },
    {
     "name": "stderr",
     "output_type": "stream",
     "text": [
      "Multiprocess sampling (4 chains in 4 jobs)\n",
      "NUTS: [pmTheta]\n",
      "Sampling 4 chains for 1_000 tune and 1_000 draw iterations (4_000 + 4_000 draws total) took 9 seconds.\n",
      "Auto-assigning NUTS sampler...\n",
      "Initializing NUTS using jitter+adapt_diag...\n"
     ]
    },
    {
     "name": "stdout",
     "output_type": "stream",
     "text": [
      "player 3 progress: 1/1\n"
     ]
    },
    {
     "name": "stderr",
     "output_type": "stream",
     "text": [
      "Multiprocess sampling (4 chains in 4 jobs)\n",
      "NUTS: [pmTheta]\n",
      "Sampling 4 chains for 1_000 tune and 1_000 draw iterations (4_000 + 4_000 draws total) took 6 seconds.\n"
     ]
    },
    {
     "name": "stdout",
     "output_type": "stream",
     "text": [
      "[]\n",
      "[0]\n",
      "[1]\n",
      "[2]\n",
      "[0, 1]\n",
      "Executing the sample kl divergences for : [0, 1]\n"
     ]
    },
    {
     "name": "stderr",
     "output_type": "stream",
     "text": [
      "Auto-assigning NUTS sampler...\n",
      "Initializing NUTS using jitter+adapt_diag...\n"
     ]
    },
    {
     "name": "stdout",
     "output_type": "stream",
     "text": [
      "player 0+1 progress: 1/1\n"
     ]
    },
    {
     "name": "stderr",
     "output_type": "stream",
     "text": [
      "Multiprocess sampling (4 chains in 4 jobs)\n",
      "NUTS: [pmTheta]\n",
      "Sampling 4 chains for 1_000 tune and 1_000 draw iterations (4_000 + 4_000 draws total) took 16 seconds.\n"
     ]
    },
    {
     "name": "stdout",
     "output_type": "stream",
     "text": [
      "Estimated kl values are:  [[10.778980981192634]]\n",
      "[0, 2]\n",
      "Executing the sample kl divergences for : [0, 2]\n"
     ]
    },
    {
     "name": "stderr",
     "output_type": "stream",
     "text": [
      "Auto-assigning NUTS sampler...\n",
      "Initializing NUTS using jitter+adapt_diag...\n"
     ]
    },
    {
     "name": "stdout",
     "output_type": "stream",
     "text": [
      "player 0+2 progress: 1/1\n"
     ]
    },
    {
     "name": "stderr",
     "output_type": "stream",
     "text": [
      "Multiprocess sampling (4 chains in 4 jobs)\n",
      "NUTS: [pmTheta]\n",
      "Sampling 4 chains for 1_000 tune and 1_000 draw iterations (4_000 + 4_000 draws total) took 9 seconds.\n",
      "The acceptance probability does not match the target. It is 0.8887655116082224, but should be close to 0.8. Try to increase the number of tuning steps.\n"
     ]
    },
    {
     "name": "stdout",
     "output_type": "stream",
     "text": [
      "Estimated kl values are:  [[9.56289820642991]]\n",
      "[1, 2]\n",
      "Executing the sample kl divergences for : [1, 2]\n"
     ]
    },
    {
     "name": "stderr",
     "output_type": "stream",
     "text": [
      "Auto-assigning NUTS sampler...\n",
      "Initializing NUTS using jitter+adapt_diag...\n"
     ]
    },
    {
     "name": "stdout",
     "output_type": "stream",
     "text": [
      "player 1+2 progress: 1/1\n"
     ]
    },
    {
     "name": "stderr",
     "output_type": "stream",
     "text": [
      "Multiprocess sampling (4 chains in 4 jobs)\n",
      "NUTS: [pmTheta]\n",
      "Sampling 4 chains for 1_000 tune and 1_000 draw iterations (4_000 + 4_000 draws total) took 19 seconds.\n"
     ]
    },
    {
     "name": "stdout",
     "output_type": "stream",
     "text": [
      "Estimated kl values are:  [[10.600246154906674]]\n",
      "[0, 1, 2]\n",
      "Executing the sample kl divergences for : [0, 1, 2]\n"
     ]
    },
    {
     "name": "stderr",
     "output_type": "stream",
     "text": [
      "Auto-assigning NUTS sampler...\n",
      "Initializing NUTS using jitter+adapt_diag...\n"
     ]
    },
    {
     "name": "stdout",
     "output_type": "stream",
     "text": [
      "player 0+1+2 progress: 1/1\n"
     ]
    },
    {
     "name": "stderr",
     "output_type": "stream",
     "text": [
      "Multiprocess sampling (4 chains in 4 jobs)\n",
      "NUTS: [pmTheta]\n",
      "Sampling 4 chains for 1_000 tune and 1_000 draw iterations (4_000 + 4_000 draws total) took 28 seconds.\n"
     ]
    },
    {
     "name": "stdout",
     "output_type": "stream",
     "text": [
      "Estimated kl values are:  [[11.752670021426379]]\n",
      "Iteration: 8/10 \n",
      "Sample size: [266, 90, 440]\n"
     ]
    },
    {
     "name": "stderr",
     "output_type": "stream",
     "text": [
      "Auto-assigning NUTS sampler...\n",
      "Initializing NUTS using jitter+adapt_diag...\n"
     ]
    },
    {
     "name": "stdout",
     "output_type": "stream",
     "text": [
      "player 1 progress: 1/1\n"
     ]
    },
    {
     "name": "stderr",
     "output_type": "stream",
     "text": [
      "Multiprocess sampling (4 chains in 4 jobs)\n",
      "NUTS: [pmTheta]\n",
      "Sampling 4 chains for 1_000 tune and 1_000 draw iterations (4_000 + 4_000 draws total) took 5 seconds.\n",
      "There were 363 divergences after tuning. Increase `target_accept` or reparameterize.\n",
      "The acceptance probability does not match the target. It is 0.5849625846476096, but should be close to 0.8. Try to increase the number of tuning steps.\n",
      "The acceptance probability does not match the target. It is 0.9100637328489135, but should be close to 0.8. Try to increase the number of tuning steps.\n",
      "The number of effective samples is smaller than 10% for some parameters.\n",
      "Auto-assigning NUTS sampler...\n",
      "Initializing NUTS using jitter+adapt_diag...\n"
     ]
    },
    {
     "name": "stdout",
     "output_type": "stream",
     "text": [
      "player 2 progress: 1/1\n"
     ]
    },
    {
     "name": "stderr",
     "output_type": "stream",
     "text": [
      "Multiprocess sampling (4 chains in 4 jobs)\n",
      "NUTS: [pmTheta]\n",
      "Sampling 4 chains for 1_000 tune and 1_000 draw iterations (4_000 + 4_000 draws total) took 10 seconds.\n",
      "Auto-assigning NUTS sampler...\n",
      "Initializing NUTS using jitter+adapt_diag...\n"
     ]
    },
    {
     "name": "stdout",
     "output_type": "stream",
     "text": [
      "player 3 progress: 1/1\n"
     ]
    },
    {
     "name": "stderr",
     "output_type": "stream",
     "text": [
      "Multiprocess sampling (4 chains in 4 jobs)\n",
      "NUTS: [pmTheta]\n",
      "Sampling 4 chains for 1_000 tune and 1_000 draw iterations (4_000 + 4_000 draws total) took 6 seconds.\n",
      "There were 234 divergences after tuning. Increase `target_accept` or reparameterize.\n",
      "The acceptance probability does not match the target. It is 0.5655462527905756, but should be close to 0.8. Try to increase the number of tuning steps.\n",
      "The estimated number of effective samples is smaller than 200 for some parameters.\n"
     ]
    },
    {
     "name": "stdout",
     "output_type": "stream",
     "text": [
      "[]\n",
      "[0]\n",
      "[1]\n",
      "[2]\n",
      "[0, 1]\n",
      "Executing the sample kl divergences for : [0, 1]\n"
     ]
    },
    {
     "name": "stderr",
     "output_type": "stream",
     "text": [
      "Auto-assigning NUTS sampler...\n",
      "Initializing NUTS using jitter+adapt_diag...\n"
     ]
    },
    {
     "name": "stdout",
     "output_type": "stream",
     "text": [
      "player 0+1 progress: 1/1\n"
     ]
    },
    {
     "name": "stderr",
     "output_type": "stream",
     "text": [
      "Multiprocess sampling (4 chains in 4 jobs)\n",
      "NUTS: [pmTheta]\n",
      "Sampling 4 chains for 1_000 tune and 1_000 draw iterations (4_000 + 4_000 draws total) took 20 seconds.\n"
     ]
    },
    {
     "name": "stdout",
     "output_type": "stream",
     "text": [
      "Estimated kl values are:  [[11.427988938706374]]\n",
      "[0, 2]\n",
      "Executing the sample kl divergences for : [0, 2]\n"
     ]
    },
    {
     "name": "stderr",
     "output_type": "stream",
     "text": [
      "Auto-assigning NUTS sampler...\n",
      "Initializing NUTS using jitter+adapt_diag...\n"
     ]
    },
    {
     "name": "stdout",
     "output_type": "stream",
     "text": [
      "player 0+2 progress: 1/1\n"
     ]
    },
    {
     "name": "stderr",
     "output_type": "stream",
     "text": [
      "Multiprocess sampling (4 chains in 4 jobs)\n",
      "NUTS: [pmTheta]\n",
      "Sampling 4 chains for 1_000 tune and 1_000 draw iterations (4_000 + 4_000 draws total) took 8 seconds.\n"
     ]
    },
    {
     "name": "stdout",
     "output_type": "stream",
     "text": [
      "Estimated kl values are:  [[10.56173228526182]]\n",
      "[1, 2]\n",
      "Executing the sample kl divergences for : [1, 2]\n"
     ]
    },
    {
     "name": "stderr",
     "output_type": "stream",
     "text": [
      "Auto-assigning NUTS sampler...\n",
      "Initializing NUTS using jitter+adapt_diag...\n"
     ]
    },
    {
     "name": "stdout",
     "output_type": "stream",
     "text": [
      "player 1+2 progress: 1/1\n"
     ]
    },
    {
     "name": "stderr",
     "output_type": "stream",
     "text": [
      "Multiprocess sampling (4 chains in 4 jobs)\n",
      "NUTS: [pmTheta]\n",
      "Sampling 4 chains for 1_000 tune and 1_000 draw iterations (4_000 + 4_000 draws total) took 22 seconds.\n"
     ]
    },
    {
     "name": "stdout",
     "output_type": "stream",
     "text": [
      "Estimated kl values are:  [[10.96631994030852]]\n",
      "[0, 1, 2]\n",
      "Executing the sample kl divergences for : [0, 1, 2]\n"
     ]
    },
    {
     "name": "stderr",
     "output_type": "stream",
     "text": [
      "Auto-assigning NUTS sampler...\n",
      "Initializing NUTS using jitter+adapt_diag...\n"
     ]
    },
    {
     "name": "stdout",
     "output_type": "stream",
     "text": [
      "player 0+1+2 progress: 1/1\n"
     ]
    },
    {
     "name": "stderr",
     "output_type": "stream",
     "text": [
      "Multiprocess sampling (4 chains in 4 jobs)\n",
      "NUTS: [pmTheta]\n",
      "Sampling 4 chains for 1_000 tune and 1_000 draw iterations (4_000 + 4_000 draws total) took 31 seconds.\n",
      "Auto-assigning NUTS sampler...\n",
      "Initializing NUTS using jitter+adapt_diag...\n"
     ]
    },
    {
     "name": "stdout",
     "output_type": "stream",
     "text": [
      "Estimated kl values are:  [[12.377534821217996]]\n",
      "Iteration: 9/10 \n",
      "Sample size: [266, 100, 500]\n",
      "player 1 progress: 1/1\n"
     ]
    },
    {
     "name": "stderr",
     "output_type": "stream",
     "text": [
      "Multiprocess sampling (4 chains in 4 jobs)\n",
      "NUTS: [pmTheta]\n",
      "Sampling 4 chains for 1_000 tune and 1_000 draw iterations (4_000 + 4_000 draws total) took 5 seconds.\n",
      "Auto-assigning NUTS sampler...\n",
      "Initializing NUTS using jitter+adapt_diag...\n"
     ]
    },
    {
     "name": "stdout",
     "output_type": "stream",
     "text": [
      "player 2 progress: 1/1\n"
     ]
    },
    {
     "name": "stderr",
     "output_type": "stream",
     "text": [
      "Multiprocess sampling (4 chains in 4 jobs)\n",
      "NUTS: [pmTheta]\n",
      "Sampling 4 chains for 1_000 tune and 1_000 draw iterations (4_000 + 4_000 draws total) took 9 seconds.\n",
      "Auto-assigning NUTS sampler...\n",
      "Initializing NUTS using jitter+adapt_diag...\n"
     ]
    },
    {
     "name": "stdout",
     "output_type": "stream",
     "text": [
      "player 3 progress: 1/1\n"
     ]
    },
    {
     "name": "stderr",
     "output_type": "stream",
     "text": [
      "Multiprocess sampling (4 chains in 4 jobs)\n",
      "NUTS: [pmTheta]\n",
      "Sampling 4 chains for 1_000 tune and 1_000 draw iterations (4_000 + 4_000 draws total) took 7 seconds.\n",
      "The acceptance probability does not match the target. It is 0.8967891086091051, but should be close to 0.8. Try to increase the number of tuning steps.\n"
     ]
    },
    {
     "name": "stdout",
     "output_type": "stream",
     "text": [
      "[]\n",
      "[0]\n",
      "[1]\n",
      "[2]\n",
      "[0, 1]\n",
      "Executing the sample kl divergences for : [0, 1]\n"
     ]
    },
    {
     "name": "stderr",
     "output_type": "stream",
     "text": [
      "Auto-assigning NUTS sampler...\n",
      "Initializing NUTS using jitter+adapt_diag...\n"
     ]
    },
    {
     "name": "stdout",
     "output_type": "stream",
     "text": [
      "player 0+1 progress: 1/1\n"
     ]
    },
    {
     "name": "stderr",
     "output_type": "stream",
     "text": [
      "Multiprocess sampling (4 chains in 4 jobs)\n",
      "NUTS: [pmTheta]\n",
      "Sampling 4 chains for 1_000 tune and 1_000 draw iterations (4_000 + 4_000 draws total) took 20 seconds.\n"
     ]
    },
    {
     "name": "stdout",
     "output_type": "stream",
     "text": [
      "Estimated kl values are:  [[11.648614212753229]]\n",
      "[0, 2]\n",
      "Executing the sample kl divergences for : [0, 2]\n"
     ]
    },
    {
     "name": "stderr",
     "output_type": "stream",
     "text": [
      "Auto-assigning NUTS sampler...\n",
      "Initializing NUTS using jitter+adapt_diag...\n"
     ]
    },
    {
     "name": "stdout",
     "output_type": "stream",
     "text": [
      "player 0+2 progress: 1/1\n"
     ]
    },
    {
     "name": "stderr",
     "output_type": "stream",
     "text": [
      "Multiprocess sampling (4 chains in 4 jobs)\n",
      "NUTS: [pmTheta]\n",
      "Sampling 4 chains for 1_000 tune and 1_000 draw iterations (4_000 + 4_000 draws total) took 9 seconds.\n"
     ]
    },
    {
     "name": "stdout",
     "output_type": "stream",
     "text": [
      "Estimated kl values are:  [[10.88715324553949]]\n",
      "[1, 2]\n",
      "Executing the sample kl divergences for : [1, 2]\n"
     ]
    },
    {
     "name": "stderr",
     "output_type": "stream",
     "text": [
      "Auto-assigning NUTS sampler...\n",
      "Initializing NUTS using jitter+adapt_diag...\n"
     ]
    },
    {
     "name": "stdout",
     "output_type": "stream",
     "text": [
      "player 1+2 progress: 1/1\n"
     ]
    },
    {
     "name": "stderr",
     "output_type": "stream",
     "text": [
      "Multiprocess sampling (4 chains in 4 jobs)\n",
      "NUTS: [pmTheta]\n",
      "Sampling 4 chains for 1_000 tune and 1_000 draw iterations (4_000 + 4_000 draws total) took 20 seconds.\n"
     ]
    },
    {
     "name": "stdout",
     "output_type": "stream",
     "text": [
      "Estimated kl values are:  [[11.273258654573404]]\n",
      "[0, 1, 2]\n",
      "Executing the sample kl divergences for : [0, 1, 2]\n"
     ]
    },
    {
     "name": "stderr",
     "output_type": "stream",
     "text": [
      "Auto-assigning NUTS sampler...\n",
      "Initializing NUTS using jitter+adapt_diag...\n"
     ]
    },
    {
     "name": "stdout",
     "output_type": "stream",
     "text": [
      "player 0+1+2 progress: 1/1\n"
     ]
    },
    {
     "name": "stderr",
     "output_type": "stream",
     "text": [
      "Multiprocess sampling (4 chains in 4 jobs)\n",
      "NUTS: [pmTheta]\n",
      "Sampling 4 chains for 1_000 tune and 1_000 draw iterations (4_000 + 4_000 draws total) took 28 seconds.\n"
     ]
    },
    {
     "name": "stdout",
     "output_type": "stream",
     "text": [
      "Estimated kl values are:  [[12.619498162699822]]\n",
      "Iteration: 10/10 \n",
      "Sample size: [266, 110, 560]\n"
     ]
    },
    {
     "name": "stderr",
     "output_type": "stream",
     "text": [
      "Auto-assigning NUTS sampler...\n",
      "Initializing NUTS using jitter+adapt_diag...\n"
     ]
    },
    {
     "name": "stdout",
     "output_type": "stream",
     "text": [
      "player 1 progress: 1/1\n"
     ]
    },
    {
     "name": "stderr",
     "output_type": "stream",
     "text": [
      "Multiprocess sampling (4 chains in 4 jobs)\n",
      "NUTS: [pmTheta]\n",
      "Sampling 4 chains for 1_000 tune and 1_000 draw iterations (4_000 + 4_000 draws total) took 7 seconds.\n",
      "The acceptance probability does not match the target. It is 0.7138287588099492, but should be close to 0.8. Try to increase the number of tuning steps.\n",
      "Auto-assigning NUTS sampler...\n",
      "Initializing NUTS using jitter+adapt_diag...\n"
     ]
    },
    {
     "name": "stdout",
     "output_type": "stream",
     "text": [
      "player 2 progress: 1/1\n"
     ]
    },
    {
     "name": "stderr",
     "output_type": "stream",
     "text": [
      "Multiprocess sampling (4 chains in 4 jobs)\n",
      "NUTS: [pmTheta]\n",
      "Sampling 4 chains for 1_000 tune and 1_000 draw iterations (4_000 + 4_000 draws total) took 9 seconds.\n",
      "Auto-assigning NUTS sampler...\n",
      "Initializing NUTS using jitter+adapt_diag...\n"
     ]
    },
    {
     "name": "stdout",
     "output_type": "stream",
     "text": [
      "player 3 progress: 1/1\n"
     ]
    },
    {
     "name": "stderr",
     "output_type": "stream",
     "text": [
      "Multiprocess sampling (4 chains in 4 jobs)\n",
      "NUTS: [pmTheta]\n",
      "Sampling 4 chains for 1_000 tune and 1_000 draw iterations (4_000 + 4_000 draws total) took 7 seconds.\n",
      "The acceptance probability does not match the target. It is 0.8896576238610067, but should be close to 0.8. Try to increase the number of tuning steps.\n"
     ]
    },
    {
     "name": "stdout",
     "output_type": "stream",
     "text": [
      "[]\n",
      "[0]\n",
      "[1]\n",
      "[2]\n",
      "[0, 1]\n",
      "Executing the sample kl divergences for : [0, 1]\n"
     ]
    },
    {
     "name": "stderr",
     "output_type": "stream",
     "text": [
      "Auto-assigning NUTS sampler...\n",
      "Initializing NUTS using jitter+adapt_diag...\n"
     ]
    },
    {
     "name": "stdout",
     "output_type": "stream",
     "text": [
      "player 0+1 progress: 1/1\n"
     ]
    },
    {
     "name": "stderr",
     "output_type": "stream",
     "text": [
      "Multiprocess sampling (4 chains in 4 jobs)\n",
      "NUTS: [pmTheta]\n",
      "Sampling 4 chains for 1_000 tune and 1_000 draw iterations (4_000 + 4_000 draws total) took 17 seconds.\n"
     ]
    },
    {
     "name": "stdout",
     "output_type": "stream",
     "text": [
      "Estimated kl values are:  [[11.640504142150125]]\n",
      "[0, 2]\n",
      "Executing the sample kl divergences for : [0, 2]\n"
     ]
    },
    {
     "name": "stderr",
     "output_type": "stream",
     "text": [
      "Auto-assigning NUTS sampler...\n",
      "Initializing NUTS using jitter+adapt_diag...\n"
     ]
    },
    {
     "name": "stdout",
     "output_type": "stream",
     "text": [
      "player 0+2 progress: 1/1\n"
     ]
    },
    {
     "name": "stderr",
     "output_type": "stream",
     "text": [
      "Multiprocess sampling (4 chains in 4 jobs)\n",
      "NUTS: [pmTheta]\n",
      "Sampling 4 chains for 1_000 tune and 1_000 draw iterations (4_000 + 4_000 draws total) took 11 seconds.\n",
      "The number of effective samples is smaller than 25% for some parameters.\n"
     ]
    },
    {
     "name": "stdout",
     "output_type": "stream",
     "text": [
      "Estimated kl values are:  [[10.257713355758677]]\n",
      "[1, 2]\n",
      "Executing the sample kl divergences for : [1, 2]\n"
     ]
    },
    {
     "name": "stderr",
     "output_type": "stream",
     "text": [
      "Auto-assigning NUTS sampler...\n",
      "Initializing NUTS using jitter+adapt_diag...\n"
     ]
    },
    {
     "name": "stdout",
     "output_type": "stream",
     "text": [
      "player 1+2 progress: 1/1\n"
     ]
    },
    {
     "name": "stderr",
     "output_type": "stream",
     "text": [
      "Multiprocess sampling (4 chains in 4 jobs)\n",
      "NUTS: [pmTheta]\n",
      "Sampling 4 chains for 1_000 tune and 1_000 draw iterations (4_000 + 4_000 draws total) took 21 seconds.\n"
     ]
    },
    {
     "name": "stdout",
     "output_type": "stream",
     "text": [
      "Estimated kl values are:  [[11.627278410109238]]\n",
      "[0, 1, 2]\n",
      "Executing the sample kl divergences for : [0, 1, 2]\n"
     ]
    },
    {
     "name": "stderr",
     "output_type": "stream",
     "text": [
      "Auto-assigning NUTS sampler...\n",
      "Initializing NUTS using jitter+adapt_diag...\n"
     ]
    },
    {
     "name": "stdout",
     "output_type": "stream",
     "text": [
      "player 0+1+2 progress: 1/1\n"
     ]
    },
    {
     "name": "stderr",
     "output_type": "stream",
     "text": [
      "Multiprocess sampling (4 chains in 4 jobs)\n",
      "NUTS: [pmTheta]\n",
      "Sampling 4 chains for 1_000 tune and 1_000 draw iterations (4_000 + 4_000 draws total) took 32 seconds.\n"
     ]
    },
    {
     "name": "stdout",
     "output_type": "stream",
     "text": [
      "Estimated kl values are:  [[12.799284733286703]]\n"
     ]
    }
   ],
   "source": [
    "# Repurposed to test out 3 players\n",
    "\n",
    "import numpy as np\n",
    "from collections import defaultdict\n",
    "from math import factorial as fac\n",
    "\n",
    "from scipy.stats import tvar\n",
    "import matplotlib.pyplot as plt\n",
    "\n",
    "import parameters as pr\n",
    "\n",
    "from utils import powerset\n",
    "\n",
    "import player_1_multi as player_1\n",
    "import player_2_multi as player_2\n",
    "import player_3_multi as player_3\n",
    "# import player_12_multi as player_12\n",
    "# import player_13_multi as player_13\n",
    "# import player_23_multi as player_23\n",
    "# import player_123_multi as player_123\n",
    "\n",
    "from player_manager import sample_kl_divergences\n",
    "\n",
    "import os\n",
    "from os.path import join as oj\n",
    "\n",
    "import time\n",
    "import datetime\n",
    "\n",
    "ts = time.time()\n",
    "st = datetime.datetime.fromtimestamp(ts).strftime('%Y-%m-%d-%H:%M')\n",
    "result_dir = oj('multiplayer', 'synthetic-dev',  st)\n",
    "\n",
    "os.makedirs(result_dir, exist_ok=True)\n",
    "\n",
    "os.chdir(result_dir)\n",
    "\n",
    "with open(oj('settings.txt'), 'w') as f:\n",
    "\n",
    "    f.write(\"Experiment Parameters: \\n\")\n",
    "\n",
    "    f.write(\"P1_known_noise_std =  \" + str(player_1.noise_std_dev) + '\\n')\n",
    "    f.write(\"P2_known_noise_cov =  \" + str(player_2.data_cov)+ '\\n')\n",
    "    f.write(\"P3_unknown_noise_std =  \" + str(player_3.noise_std_dev)+ '\\n')\n",
    "    f.write(\"P3_noise_std_prior =  \" + str(player_3.noise_std_prior)+ '\\n')\n",
    "\n",
    "    f.write(\"\\n\")\n",
    "\n",
    "    f.write(\"Algorithm Parameters: \\n\")\n",
    "\n",
    "    f.write(\"fisher_sample_size =  \" + str(pr.fisher_sample_size)+ '\\n')\n",
    "    f.write(\"posterior_sample_size =  \" + str(pr.posterior_sample_size)+ '\\n')\n",
    "    f.write(\"tuning_step =  \" + str(pr.tuning_step)+ '\\n')\n",
    "    f.write(\"num_params =  \" + str(pr.num_params)+ '\\n')\n",
    "    f.write(\"true_param =  \" + str(pr.true_param)+ '\\n')\n",
    "    # f.write(\"best_lambda =  \" + str(pr.best_lambda)+ '\\n')\n",
    "\n",
    "    f.write(\"base_sample_size =  \" + str(pr.base_sample_size)+ '\\n')\n",
    "    f.write(\"base_sample_increment =  \" + str(pr.base_sample_increment)+ '\\n')\n",
    "    f.write(\"max_sample_increment =  \" + str(pr.max_sample_increment)+ '\\n')\n",
    "    f.write(\"max_iteration =  \" + str(pr.max_iteration)+ '\\n')\n",
    "    \n",
    "    f.write(\"sample_size_range =  \" + str(pr.sample_size_range)+ '\\n')\n",
    "    f.write(\"num_samples =  \" + str(pr.num_samples)+ '\\n')\n",
    "\n",
    "\n",
    "posterior_sample_size = pr.posterior_sample_size\n",
    "prior_mean = pr.prior_mean\n",
    "prior_cov = pr.prior_cov\n",
    "num_params = pr.num_params\n",
    "\n",
    "base_sample_size = pr.base_sample_size\n",
    "base_sample_increment = pr.base_sample_increment\n",
    "max_sample_increment = pr.max_sample_increment\n",
    "max_iteration = pr.max_iteration\n",
    "\n",
    "# p1_sample_size = base_sample_size\n",
    "# p2_sample_size = base_sample_size\n",
    "# p3_sample_size = base_sample_size\n",
    "\n",
    "p1_sample_size_list = []\n",
    "p2_sample_size_list = []\n",
    "p3_sample_size_list = []\n",
    "\n",
    "p1_FI_list = []\n",
    "p2_FI_list = []\n",
    "p3_FI_list = []\n",
    "\n",
    "p1_shapley_list = []\n",
    "p2_shapley_list = []\n",
    "p3_shapley_list = []\n",
    "\n",
    "p1_FI_det_list = []\n",
    "p2_FI_det_list = []\n",
    "p3_FI_det_list = []\n",
    "\n",
    "N = 3\n",
    "P_set = powerset(list(range(N)))\n",
    "\n",
    "players = [player_1, player_2, player_3] # create a list of the player py files for calling player-specific custom functions\n",
    "\n",
    "player_sample_sizes = [base_sample_size for _ in range(N)] # a list of N numbers\n",
    "\n",
    "player_sample_size_lists = [[] for _ in range(N)] # a list of N lists, each of length=max_iterations \n",
    "\n",
    "player_FI_lists = [[] for _ in range(N)] # a list of N lists, each of length=max_iterations \n",
    "\n",
    "player_shapley_lists = [[] for _ in range(N)] # a list of N lists, each of length=max_iterations \n",
    "\n",
    "\n",
    "# prior for unknown noises\n",
    "player_3_noise_std_estimate = player_3.noise_std_prior\n",
    "\n",
    "print(\"Testing multiplayer scenario for {} players with {} iterations.\".format(N, max_iteration))\n",
    "\n",
    "for i in range(max_iteration):\n",
    "    # Progress\n",
    "    print(\"Iteration: {}/{} \".format(i + 1, max_iteration))\n",
    "    print(\"Sample size: {}\".format(player_sample_sizes))\n",
    "\n",
    "    # Record current sample sizes\n",
    "    for player_sample_size_list, player_sample_size in zip(player_sample_size_lists, player_sample_sizes):\n",
    "        player_sample_size_list.append(player_sample_size)\n",
    "    \n",
    "\n",
    "    # Generate the sample kl divergences\n",
    "\n",
    "    sample_kl_1, data_x1, data_y1 = player_1.sample_kl_divergences(\n",
    "        [player_sample_sizes[0]], 1, posterior_sample_size, prior_mean, prior_cov)\n",
    "    \n",
    "    sample_kl_2, data_x2 = player_2.sample_kl_divergences(\n",
    "        [player_sample_sizes[1]], 1, posterior_sample_size, prior_mean, prior_cov)\n",
    "    \n",
    "    sample_kl_3, data_x3, data_y3 = player_3.sample_kl_divergences(\n",
    "        [player_sample_sizes[2]], 1, posterior_sample_size, prior_mean, prior_cov, noise_std_estimate=player_3_noise_std_estimate)\n",
    "    \n",
    "    player_3_noise_std_estimate = np.sqrt(tvar(data_y3[0][0]))\n",
    "    \n",
    "    \n",
    "    player_sample_kl_list = [sample_kl_1, sample_kl_2, sample_kl_3] # a list of N numbers for each iteration\n",
    "    \n",
    "    \n",
    "    player_index_data_dict = {0:[data_x1, data_y1], 1:[data_x2],\\\n",
    "        2:[data_x3, data_y3, player_3_noise_std_estimate]}\n",
    "    \n",
    "    sample_kls = defaultdict(float) # a dict for later calculation of SV\n",
    "    \n",
    "    # update the dict for individual player sample_kl\n",
    "    for player_index, player_sample_kl in enumerate(player_sample_kl_list):\n",
    "         sample_kls[tuple([player_index])] = np.squeeze(np.asarray(player_sample_kl)) \n",
    "    \n",
    "    for subset in P_set:\n",
    "        print(subset)\n",
    "        if len(subset) <= 1:continue\n",
    "        \n",
    "        else:\n",
    "            print(\"Executing the sample kl divergences for :\", subset)\n",
    "            estimated_kl_values, post_mean = sample_kl_divergences(\n",
    "                [sum(player_sample_sizes[index] for index in subset)] , 1, \n",
    "                posterior_sample_size, prior_mean, prior_cov,             \n",
    "                {index: player_index_data_dict[index] for index in subset}\n",
    "                )\n",
    "            print(\"Estimated kl values are: \", estimated_kl_values)\n",
    "            sample_kls[tuple(subset)] = np.squeeze(np.asarray(estimated_kl_values))\n",
    "            if len(subset) == N:\n",
    "                # Get the current parameter estimate from all the players, used later for calculating FI\n",
    "                estimated_param = post_mean\n",
    "\n",
    "    # Compute Shapley values\n",
    "    sample_shapleys = [0 for _ in range(N)]\n",
    "\n",
    "    for index in range(N):\n",
    "        sample_shapleys[index] = 0\n",
    "        for subset in P_set:\n",
    "\n",
    "            if index not in subset:\n",
    "                subset_included = tuple(sorted(subset + [index]))\n",
    "\n",
    "                C = len(subset) \n",
    "                if C == 0:\n",
    "                    sample_shapleys[index] +=  (fac(C) * fac(N-C-1) / fac(N)) * \\\n",
    "                    sample_kls[subset_included]\n",
    "                else:                    \n",
    "                    sample_shapleys[index] +=  (fac(C) * fac(N-C-1) / fac(N)) * \\\n",
    "                    (sample_kls[subset_included] - sample_kls[tuple(subset)])\n",
    "\n",
    "    for player_index, player_shapley_list in enumerate(player_shapley_lists):\n",
    "        player_shapley_list.append(sample_shapleys[player_index])\n",
    "                    \n",
    "\n",
    "    # Compute Fisher information matrix (determinants) \n",
    "    \n",
    "    player_FI_dets = []\n",
    "    \n",
    "    for player_index, player in enumerate(players):\n",
    "        \n",
    "        player_data = player_index_data_dict[player_index]\n",
    "        \n",
    "        # calling the custom estimate_FI for each player\n",
    "        emp_Fisher = player.estimate_FI(player_data, estimated_param, num_params)\n",
    "        \n",
    "        player_FI_det = np.linalg.det(emp_Fisher)\n",
    "        player_FI_dets.append(player_FI_det) # for comparison among players in this iteration\n",
    "        \n",
    "        player_FI_lists[player_index].append(player_FI_det) # for record keeping over iterations\n",
    "    \n",
    "    # Compute fair sharing rates\n",
    "\n",
    "    max_FI = max(player_FI_dets)\n",
    "    max_FI_sample_count = player_sample_sizes[player_FI_dets.index(max_FI)]\n",
    "    for i, (FI, sample_size) in enumerate(zip(player_FI_dets, player_sample_sizes)):\n",
    "        \n",
    "        if FI == max_FI:\n",
    "            player_sample_sizes[i] += base_sample_increment\n",
    "\n",
    "        else:\n",
    "            rate = np.power(max_FI / FI, 1.0 / num_params)\n",
    "            target = round(max_FI_sample_count * rate)\n",
    "            if sample_size < target:\n",
    "                sample_size += min(target - sample_size, max_sample_increment)\n",
    "\n",
    "            player_sample_sizes[i] = int(sample_size)\n",
    "\n",
    "        player_sample_sizes[i] = int(player_sample_sizes[i])"
   ]
  },
  {
   "cell_type": "code",
   "execution_count": null,
   "id": "1a06a000",
   "metadata": {},
   "outputs": [],
   "source": []
  },
  {
   "cell_type": "code",
   "execution_count": null,
   "id": "7bf0d1b8",
   "metadata": {},
   "outputs": [],
   "source": []
  },
  {
   "cell_type": "code",
   "execution_count": null,
   "id": "ec8de2fa",
   "metadata": {},
   "outputs": [],
   "source": []
  },
  {
   "cell_type": "code",
   "execution_count": null,
   "id": "0793128b",
   "metadata": {},
   "outputs": [],
   "source": []
  },
  {
   "cell_type": "code",
   "execution_count": 3,
   "id": "364f8456",
   "metadata": {},
   "outputs": [],
   "source": [
    "\n",
    "np.savetxt(\"cumulative_1.txt\", p1_sample_size_list)\n",
    "np.savetxt(\"cumulative_2.txt\", p2_sample_size_list)\n",
    "np.savetxt(\"cumulative_3.txt\", p3_sample_size_list)\n",
    "\n",
    "np.savetxt(\"shapley_fair_1.txt\", p1_shapley_list)\n",
    "np.savetxt(\"shapley_fair_2.txt\", p2_shapley_list)\n",
    "np.savetxt(\"shapley_fair_3.txt\", p3_shapley_list)\n",
    "\n",
    "np.savetxt(\"FI_det_1.txt\", p1_FI_det_list)\n",
    "np.savetxt(\"FI_det_2.txt\", p2_FI_det_list)\n",
    "np.savetxt(\"FI_det_3.txt\", p3_FI_det_list)\n",
    "\n",
    "\n",
    "plt.style.use('seaborn')\n",
    "\n",
    "LABEL_FONTSIZE = 24\n",
    "MARKER_SIZE = 10\n",
    "AXIS_FONTSIZE = 26\n",
    "TITLE_FONTSIZE= 26\n",
    "LINEWIDTH = 5\n",
    "\n",
    "# plt.rcParams[\"text.usetex\"] = True\n",
    "plt.rcParams[\"font.family\"] = \"serif\"\n",
    "plt.rcParams[\"font.serif\"] = [\"Times New Roman\"] + plt.rcParams[\"font.serif\"]\n",
    "\n",
    "\n",
    "# plt.rc('font', size=SMALL_SIZE)          # controls default text sizes\n",
    "plt.rc('figure', titlesize=TITLE_FONTSIZE)     # fontsize of the axes title\n",
    "plt.rc('axes', titlesize=TITLE_FONTSIZE)     # fontsize of the axes title\n",
    "plt.rc('axes', labelsize=AXIS_FONTSIZE)    # fontsize of the x and y labels\n",
    "plt.rc('xtick', labelsize=LABEL_FONTSIZE)    # fontsize of the tick labels\n",
    "plt.rc('ytick', labelsize=LABEL_FONTSIZE)    # fontsize of the tick labels\n",
    "plt.rc('legend', fontsize=LABEL_FONTSIZE)    # legend fontsize\n",
    "plt.rc('lines', markersize=MARKER_SIZE)  # fontsize of the figure title\n",
    "plt.rc('lines', linewidth=LINEWIDTH)  # fontsize of the figure title\n",
    "\n",
    "\n",
    "\n",
    "plt.figure(figsize=(6, 4))\n",
    "\n",
    "# Plot sample sizes\n",
    "plt.plot(p1_sample_size_list, linestyle='-', color='C0',  label='P1')\n",
    "plt.plot(p2_sample_size_list, linestyle='--', color='C1', label='P2')\n",
    "plt.plot(p3_sample_size_list, linestyle='-.', color='C2', label='P3')\n",
    "plt.ylabel('Cumulative count')\n",
    "plt.xlabel('Iterations')\n",
    "plt.legend()\n",
    "plt.tight_layout()\n",
    "plt.savefig('output_sharing_rate.pdf',  bbox_inches='tight')\n",
    "# plt.show()\n",
    "plt.clf()    \n",
    "plt.close()\n",
    "\n",
    "plt.figure(figsize=(6, 4))\n",
    "\n",
    "# Plot the shapley value\n",
    "plt.plot(p1_shapley_list, linestyle='-', color='C0', label='P1')\n",
    "plt.plot(p2_shapley_list, linestyle='--', color='C1', label='P2')\n",
    "plt.plot(p3_shapley_list, linestyle='-.', color='C2', label='P3')\n",
    "plt.ylabel('Shapley value')\n",
    "plt.xlabel('Iterations')\n",
    "plt.legend()\n",
    "plt.tight_layout()\n",
    "plt.savefig('output_shapley_fair.pdf',  bbox_inches='tight')\n",
    "# plt.show()\n",
    "plt.clf()    \n",
    "plt.close()\n",
    "\n",
    "\n",
    "plt.figure(figsize=(6, 4))\n",
    "\n",
    "# Plot the shapley value\n",
    "plt.plot(p1_FI_list, linestyle='-', color='C0', label='P1')\n",
    "plt.plot(p2_FI_list, linestyle='--', color='C1', label='P2')\n",
    "plt.plot(p3_FI_list, linestyle='-.', color='C2', label='P3')\n",
    "plt.ylabel('FI Determinant')\n",
    "plt.xlabel('Iterations')\n",
    "plt.legend()\n",
    "plt.tight_layout()\n",
    "plt.savefig('fi_determinant.pdf',  bbox_inches='tight')\n",
    "# plt.show()\n",
    "plt.clf()    \n",
    "plt.close()"
   ]
  },
  {
   "cell_type": "code",
   "execution_count": null,
   "id": "0247a9b1",
   "metadata": {},
   "outputs": [],
   "source": []
  },
  {
   "cell_type": "code",
   "execution_count": null,
   "id": "637fa43a",
   "metadata": {},
   "outputs": [],
   "source": []
  },
  {
   "cell_type": "code",
   "execution_count": null,
   "id": "14a121ae",
   "metadata": {},
   "outputs": [],
   "source": [
    "def _estimate_FI_0(player_data, estimated_param, num_params):\n",
    "    # player 1\n",
    "    [data_x1, data_y1] = player_data\n",
    "    emp_Fisher_1 = np.zeros((num_params, num_params))\n",
    "    for j in range(len(data_x1[0][0])):\n",
    "        sample_dlogL = player_1.dlogL(data_x1[0][0][j], data_y1[0][0][j], estimated_param)\n",
    "        sample_dlogL.shape = (num_params, 1)\n",
    "        emp_Fisher_1 += np.matmul(sample_dlogL, np.transpose(sample_dlogL))\n",
    "    emp_Fisher_1 = emp_Fisher_1 / len(data_x1[0][0])\n",
    "    \n",
    "    return emp_Fisher_1\n",
    "\n",
    "def _estimate_FI_1(player_data, estimated_param, num_params):\n",
    "    # player 2\n",
    "    [data_x2] = player_data\n",
    "    emp_Fisher_2 = np.zeros((num_params, num_params))\n",
    "    for data_point_x in data_x2[0][0]:\n",
    "        sample_dlogL = player_2.dlogL(data_point_x, estimated_param)\n",
    "        sample_dlogL.shape = (num_params, 1)\n",
    "        emp_Fisher_2 += np.matmul(sample_dlogL, np.transpose(sample_dlogL))\n",
    "    emp_Fisher_2 = emp_Fisher_2 / len(data_x2[0][0])\n",
    "    \n",
    "    return emp_Fisher_2\n",
    "\n",
    "def _estimate_FI_2(player_data, estimated_param, num_params):\n",
    "    # player 3\n",
    "    [data_x3, data_y3, player_3_noise_std_estimate] = player_data\n",
    "    emp_Fisher_3 = np.zeros((num_params, num_params))\n",
    "    for j in range(len(data_x3[0][0])):\n",
    "        sample_dlogL = player_3.dlogL(data_x3[0][0][j], data_y3[0][0][j], player_3_noise_std_estimate**2, estimated_param)\n",
    "        sample_dlogL.shape = (num_params, 1)\n",
    "        emp_Fisher_3 += np.matmul(sample_dlogL, np.transpose(sample_dlogL))\n",
    "    emp_Fisher_3 = emp_Fisher_3 / len(data_x3[0][0])\n",
    "    return emp_Fisher_3"
   ]
  },
  {
   "cell_type": "code",
   "execution_count": null,
   "id": "41d44de1",
   "metadata": {},
   "outputs": [],
   "source": []
  }
 ],
 "metadata": {
  "kernelspec": {
   "display_name": "Python 3",
   "language": "python",
   "name": "python3"
  },
  "language_info": {
   "codemirror_mode": {
    "name": "ipython",
    "version": 3
   },
   "file_extension": ".py",
   "mimetype": "text/x-python",
   "name": "python",
   "nbconvert_exporter": "python",
   "pygments_lexer": "ipython3",
   "version": "3.8.8"
  }
 },
 "nbformat": 4,
 "nbformat_minor": 5
}
